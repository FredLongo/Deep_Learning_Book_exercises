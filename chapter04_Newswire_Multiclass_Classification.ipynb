{
  "cells": [
    {
      "cell_type": "markdown",
      "metadata": {
        "id": "view-in-github",
        "colab_type": "text"
      },
      "source": [
        "<a href=\"https://colab.research.google.com/github/FredLongo/Deep_Learning_Book_exercises/blob/main/chapter04_Newswire_Multiclass_Classification.ipynb\" target=\"_parent\"><img src=\"https://colab.research.google.com/assets/colab-badge.svg\" alt=\"Open In Colab\"/></a>"
      ]
    },
    {
      "cell_type": "markdown",
      "metadata": {
        "id": "WQUmEJ2jZ_42"
      },
      "source": [
        "This is a companion notebook for the book [Deep Learning with Python, Second Edition](https://www.manning.com/books/deep-learning-with-python-second-edition?a_aid=keras&a_bid=76564dff). For readability, it only contains runnable code blocks and section titles, and omits everything else in the book: text paragraphs, figures, and pseudocode.\n",
        "\n",
        "**If you want to be able to follow what's going on, I recommend reading the notebook side by side with your copy of the book.**\n",
        "\n",
        "This notebook was generated for TensorFlow 2.6."
      ]
    },
    {
      "cell_type": "markdown",
      "metadata": {
        "id": "y-ps3qB0Z_43"
      },
      "source": [
        "# Getting started with neural networks: Classification and regression"
      ]
    },
    {
      "cell_type": "markdown",
      "metadata": {
        "id": "GNXwRaOkZ_49"
      },
      "source": [
        "## Classifying newswires: A multiclass classification example from 4.2"
      ]
    },
    {
      "cell_type": "markdown",
      "metadata": {
        "id": "z3qnKIcBZ_5A"
      },
      "source": [
        "### The Reuters dataset"
      ]
    },
    {
      "cell_type": "markdown",
      "metadata": {
        "id": "lOQ2IY2uZ_5B"
      },
      "source": [
        "**Loading the Reuters dataset**"
      ]
    },
    {
      "cell_type": "code",
      "execution_count": 9,
      "metadata": {
        "id": "sBzi7E7RZ_5B"
      },
      "outputs": [],
      "source": [
        "from tensorflow.keras.datasets import reuters\n",
        "(train_data, train_labels), (test_data, test_labels) = reuters.load_data(\n",
        "    num_words=10000)"
      ]
    },
    {
      "cell_type": "code",
      "execution_count": 10,
      "metadata": {
        "colab": {
          "base_uri": "https://localhost:8080/"
        },
        "id": "0Ndzx7KGZ_5B",
        "outputId": "4f452302-48a4-4270-94a9-25665dc81b70"
      },
      "outputs": [
        {
          "output_type": "execute_result",
          "data": {
            "text/plain": [
              "8982"
            ]
          },
          "metadata": {},
          "execution_count": 10
        }
      ],
      "source": [
        "len(train_data)"
      ]
    },
    {
      "cell_type": "code",
      "execution_count": 11,
      "metadata": {
        "colab": {
          "base_uri": "https://localhost:8080/"
        },
        "id": "d3TFJt6gZ_5B",
        "outputId": "95cfe8ce-712b-45ff-f283-90fadb812163"
      },
      "outputs": [
        {
          "output_type": "execute_result",
          "data": {
            "text/plain": [
              "2246"
            ]
          },
          "metadata": {},
          "execution_count": 11
        }
      ],
      "source": [
        "len(test_data)"
      ]
    },
    {
      "cell_type": "code",
      "execution_count": 12,
      "metadata": {
        "colab": {
          "base_uri": "https://localhost:8080/"
        },
        "id": "IlH0_AsOZ_5B",
        "outputId": "9f0cd39e-634c-4f2d-9385-ca929ca99d45"
      },
      "outputs": [
        {
          "output_type": "execute_result",
          "data": {
            "text/plain": [
              "[1,\n",
              " 245,\n",
              " 273,\n",
              " 207,\n",
              " 156,\n",
              " 53,\n",
              " 74,\n",
              " 160,\n",
              " 26,\n",
              " 14,\n",
              " 46,\n",
              " 296,\n",
              " 26,\n",
              " 39,\n",
              " 74,\n",
              " 2979,\n",
              " 3554,\n",
              " 14,\n",
              " 46,\n",
              " 4689,\n",
              " 4329,\n",
              " 86,\n",
              " 61,\n",
              " 3499,\n",
              " 4795,\n",
              " 14,\n",
              " 61,\n",
              " 451,\n",
              " 4329,\n",
              " 17,\n",
              " 12]"
            ]
          },
          "metadata": {},
          "execution_count": 12
        }
      ],
      "source": [
        "train_data[10]"
      ]
    },
    {
      "cell_type": "markdown",
      "metadata": {
        "id": "PnHK8xBFZ_5B"
      },
      "source": [
        "**Decoding newswires back to text**"
      ]
    },
    {
      "cell_type": "code",
      "execution_count": 13,
      "metadata": {
        "id": "wN0eVTloZ_5B"
      },
      "outputs": [],
      "source": [
        "word_index = reuters.get_word_index()\n",
        "reverse_word_index = dict([(value, key) for (key, value) in word_index.items()])\n",
        "decoded_newswire = \" \".join([reverse_word_index.get(i - 3, \"?\") for i in\n",
        "    train_data[0]])"
      ]
    },
    {
      "cell_type": "code",
      "execution_count": 14,
      "metadata": {
        "colab": {
          "base_uri": "https://localhost:8080/"
        },
        "id": "8V9SWc_LZ_5B",
        "outputId": "e6ec662b-0777-45cc-bcff-69f39e38e1f6"
      },
      "outputs": [
        {
          "output_type": "execute_result",
          "data": {
            "text/plain": [
              "3"
            ]
          },
          "metadata": {},
          "execution_count": 14
        }
      ],
      "source": [
        "train_labels[10]"
      ]
    },
    {
      "cell_type": "code",
      "source": [
        "decoded_newswire"
      ],
      "metadata": {
        "colab": {
          "base_uri": "https://localhost:8080/",
          "height": 90
        },
        "id": "zScemaBXa92L",
        "outputId": "5d0fb843-130c-4cd6-e424-c95ecc28da31"
      },
      "execution_count": 7,
      "outputs": [
        {
          "output_type": "execute_result",
          "data": {
            "text/plain": [
              "'? ? ? said as a result of its december acquisition of space co it expects earnings per share in 1987 of 1 15 to 1 30 dlrs per share up from 70 cts in 1986 the company said pretax net should rise to nine to 10 mln dlrs from six mln dlrs in 1986 and rental operation revenues to 19 to 22 mln dlrs from 12 5 mln dlrs it said cash flow per share this year should be 2 50 to three dlrs reuter 3'"
            ],
            "application/vnd.google.colaboratory.intrinsic+json": {
              "type": "string"
            }
          },
          "metadata": {},
          "execution_count": 7
        }
      ]
    },
    {
      "cell_type": "markdown",
      "metadata": {
        "id": "4r8yBtCxZ_5C"
      },
      "source": [
        "### Preparing the data"
      ]
    },
    {
      "cell_type": "markdown",
      "metadata": {
        "id": "3zwIBPwEZ_5C"
      },
      "source": [
        "**Encoding the input data**"
      ]
    },
    {
      "cell_type": "code",
      "source": [
        "import numpy as np\n",
        "def vectorize_sequences(sequences, dimension=10000):\n",
        "    results = np.zeros((len(sequences), dimension))\n",
        "    for i, sequence in enumerate(sequences):\n",
        "        for j in sequence:\n",
        "            results[i, j] = 1.\n",
        "    return results\n",
        "x_train = vectorize_sequences(train_data)\n",
        "x_test = vectorize_sequences(test_data)"
      ],
      "metadata": {
        "id": "ECqS9_fSmThr"
      },
      "execution_count": 16,
      "outputs": []
    },
    {
      "cell_type": "markdown",
      "metadata": {
        "id": "iJSmfo1iZ_5C"
      },
      "source": [
        "**Encoding the labels**"
      ]
    },
    {
      "cell_type": "code",
      "execution_count": 17,
      "metadata": {
        "id": "0I6tL5DbZ_5C"
      },
      "outputs": [],
      "source": [
        "def to_one_hot(labels, dimension=46):\n",
        "    results = np.zeros((len(labels), dimension))\n",
        "    for i, label in enumerate(labels):\n",
        "        results[i, label] = 1.\n",
        "    return results\n",
        "y_train = to_one_hot(train_labels)\n",
        "y_test = to_one_hot(test_labels)"
      ]
    },
    {
      "cell_type": "code",
      "source": [
        "y_train"
      ],
      "metadata": {
        "colab": {
          "base_uri": "https://localhost:8080/"
        },
        "id": "CNFMPTtOm_rn",
        "outputId": "71be15b5-da0d-41cf-ab38-e372329648dd"
      },
      "execution_count": 19,
      "outputs": [
        {
          "output_type": "execute_result",
          "data": {
            "text/plain": [
              "array([[0., 0., 0., ..., 0., 0., 0.],\n",
              "       [0., 0., 0., ..., 0., 0., 0.],\n",
              "       [0., 0., 0., ..., 0., 0., 0.],\n",
              "       ...,\n",
              "       [0., 0., 0., ..., 0., 0., 0.],\n",
              "       [0., 0., 0., ..., 0., 0., 0.],\n",
              "       [0., 0., 0., ..., 0., 0., 0.]])"
            ]
          },
          "metadata": {},
          "execution_count": 19
        }
      ]
    },
    {
      "cell_type": "code",
      "execution_count": 25,
      "metadata": {
        "id": "g2Nvy1NVZ_5C"
      },
      "outputs": [],
      "source": [
        "# same as above only thisn is built in keras utility\n",
        "from tensorflow.keras.utils import to_categorical\n",
        "y_train = to_categorical(train_labels)\n",
        "y_test = to_categorical(test_labels)"
      ]
    },
    {
      "cell_type": "markdown",
      "metadata": {
        "id": "KW_ktPSwZ_5C"
      },
      "source": [
        "### Building your model"
      ]
    },
    {
      "cell_type": "markdown",
      "metadata": {
        "id": "4X_0W4ITZ_5D"
      },
      "source": [
        "**Model definition**"
      ]
    },
    {
      "cell_type": "code",
      "execution_count": 28,
      "metadata": {
        "id": "jTHl5Sj_Z_5D"
      },
      "outputs": [],
      "source": [
        "from tensorflow import keras\n",
        "from tensorflow.keras import layers\n",
        "\n",
        "model = keras.Sequential([\n",
        "    layers.Dense(64, activation=\"relu\"),\n",
        "    layers.Dense(64, activation=\"relu\"),\n",
        "    layers.Dense(46, activation=\"softmax\")\n",
        "])"
      ]
    },
    {
      "cell_type": "markdown",
      "metadata": {
        "id": "1l6VCYd-Z_5D"
      },
      "source": [
        "**Compiling the model**"
      ]
    },
    {
      "cell_type": "code",
      "execution_count": 29,
      "metadata": {
        "id": "sCpOSCD8Z_5D"
      },
      "outputs": [],
      "source": [
        "model.compile(optimizer=\"rmsprop\",\n",
        "              loss=\"categorical_crossentropy\",\n",
        "              metrics=[\"accuracy\"])"
      ]
    },
    {
      "cell_type": "markdown",
      "metadata": {
        "id": "gvWmf-bKZ_5D"
      },
      "source": [
        "### Validating your approach"
      ]
    },
    {
      "cell_type": "markdown",
      "metadata": {
        "id": "4hcHu3JsZ_5D"
      },
      "source": [
        "**Setting aside a validation set**"
      ]
    },
    {
      "cell_type": "code",
      "execution_count": 30,
      "metadata": {
        "id": "0rIFLD0gZ_5D"
      },
      "outputs": [],
      "source": [
        "x_val = x_train[:1000]\n",
        "partial_x_train = x_train[1000:]\n",
        "y_val = y_train[:1000]\n",
        "partial_y_train = y_train[1000:]"
      ]
    },
    {
      "cell_type": "markdown",
      "metadata": {
        "id": "fwS8juq6Z_5D"
      },
      "source": [
        "**Training the model**"
      ]
    },
    {
      "cell_type": "code",
      "execution_count": 31,
      "metadata": {
        "colab": {
          "base_uri": "https://localhost:8080/"
        },
        "id": "gLQrkipWZ_5E",
        "outputId": "ae599c9d-95e3-455f-c6a8-97afa7c94b28"
      },
      "outputs": [
        {
          "output_type": "stream",
          "name": "stdout",
          "text": [
            "Epoch 1/20\n",
            "16/16 [==============================] - 2s 76ms/step - loss: 2.9160 - accuracy: 0.4691 - val_loss: 2.0273 - val_accuracy: 0.5900\n",
            "Epoch 2/20\n",
            "16/16 [==============================] - 1s 82ms/step - loss: 1.6464 - accuracy: 0.6724 - val_loss: 1.4404 - val_accuracy: 0.6810\n",
            "Epoch 3/20\n",
            "16/16 [==============================] - 2s 95ms/step - loss: 1.2202 - accuracy: 0.7349 - val_loss: 1.2210 - val_accuracy: 0.7340\n",
            "Epoch 4/20\n",
            "16/16 [==============================] - 1s 61ms/step - loss: 0.9964 - accuracy: 0.7836 - val_loss: 1.1040 - val_accuracy: 0.7450\n",
            "Epoch 5/20\n",
            "16/16 [==============================] - 1s 55ms/step - loss: 0.8312 - accuracy: 0.8185 - val_loss: 1.0263 - val_accuracy: 0.7720\n",
            "Epoch 6/20\n",
            "16/16 [==============================] - 1s 56ms/step - loss: 0.7012 - accuracy: 0.8479 - val_loss: 0.9722 - val_accuracy: 0.8000\n",
            "Epoch 7/20\n",
            "16/16 [==============================] - 1s 51ms/step - loss: 0.5883 - accuracy: 0.8722 - val_loss: 0.9518 - val_accuracy: 0.8010\n",
            "Epoch 8/20\n",
            "16/16 [==============================] - 1s 50ms/step - loss: 0.4962 - accuracy: 0.8945 - val_loss: 0.8937 - val_accuracy: 0.8170\n",
            "Epoch 9/20\n",
            "16/16 [==============================] - 1s 52ms/step - loss: 0.4181 - accuracy: 0.9099 - val_loss: 0.8778 - val_accuracy: 0.8180\n",
            "Epoch 10/20\n",
            "16/16 [==============================] - 1s 52ms/step - loss: 0.3609 - accuracy: 0.9192 - val_loss: 0.8716 - val_accuracy: 0.8240\n",
            "Epoch 11/20\n",
            "16/16 [==============================] - 1s 51ms/step - loss: 0.3070 - accuracy: 0.9328 - val_loss: 0.8848 - val_accuracy: 0.8150\n",
            "Epoch 12/20\n",
            "16/16 [==============================] - 1s 54ms/step - loss: 0.2658 - accuracy: 0.9402 - val_loss: 0.8698 - val_accuracy: 0.8270\n",
            "Epoch 13/20\n",
            "16/16 [==============================] - 1s 53ms/step - loss: 0.2397 - accuracy: 0.9453 - val_loss: 0.8635 - val_accuracy: 0.8200\n",
            "Epoch 14/20\n",
            "16/16 [==============================] - 1s 52ms/step - loss: 0.2130 - accuracy: 0.9500 - val_loss: 0.8804 - val_accuracy: 0.8180\n",
            "Epoch 15/20\n",
            "16/16 [==============================] - 1s 52ms/step - loss: 0.1898 - accuracy: 0.9514 - val_loss: 0.8829 - val_accuracy: 0.8260\n",
            "Epoch 16/20\n",
            "16/16 [==============================] - 1s 86ms/step - loss: 0.1789 - accuracy: 0.9525 - val_loss: 0.9477 - val_accuracy: 0.8120\n",
            "Epoch 17/20\n",
            "16/16 [==============================] - 2s 94ms/step - loss: 0.1672 - accuracy: 0.9546 - val_loss: 0.8959 - val_accuracy: 0.8150\n",
            "Epoch 18/20\n",
            "16/16 [==============================] - 1s 55ms/step - loss: 0.1507 - accuracy: 0.9536 - val_loss: 0.9255 - val_accuracy: 0.8160\n",
            "Epoch 19/20\n",
            "16/16 [==============================] - 1s 49ms/step - loss: 0.1487 - accuracy: 0.9549 - val_loss: 0.9550 - val_accuracy: 0.8080\n",
            "Epoch 20/20\n",
            "16/16 [==============================] - 1s 50ms/step - loss: 0.1393 - accuracy: 0.9573 - val_loss: 0.9504 - val_accuracy: 0.8160\n"
          ]
        }
      ],
      "source": [
        "history = model.fit(partial_x_train,\n",
        "                    partial_y_train,\n",
        "                    epochs=20,\n",
        "                    batch_size=512,\n",
        "                    validation_data=(x_val, y_val))"
      ]
    },
    {
      "cell_type": "markdown",
      "metadata": {
        "id": "sNaYEUCXZ_5E"
      },
      "source": [
        "**Plotting the training and validation loss**"
      ]
    },
    {
      "cell_type": "code",
      "execution_count": 33,
      "metadata": {
        "colab": {
          "base_uri": "https://localhost:8080/",
          "height": 472
        },
        "id": "mOgeHrSwZ_5E",
        "outputId": "3a425d38-eb85-4fc3-da74-973ab7306066"
      },
      "outputs": [
        {
          "output_type": "display_data",
          "data": {
            "text/plain": [
              "<Figure size 640x480 with 1 Axes>"
            ],
            "image/png": "[encoded data removed]"
          },
          "metadata": {}
        }
      ],
      "source": [
        "import matplotlib.pyplot as plt\n",
        "loss = history.history[\"loss\"]\n",
        "val_loss = history.history[\"val_loss\"]\n",
        "epochs = range(1, len(loss) + 1)\n",
        "plt.plot(epochs, loss, \"bo\", label=\"Training loss\")\n",
        "plt.plot(epochs, val_loss, \"b\", label=\"Validation loss\")\n",
        "plt.title(\"Training and validation loss\")\n",
        "plt.xlabel(\"Epochs\")\n",
        "plt.ylabel(\"Loss\")\n",
        "plt.legend()\n",
        "plt.show()"
      ]
    },
    {
      "cell_type": "markdown",
      "metadata": {
        "id": "a7w-nnIoZ_5E"
      },
      "source": [
        "**Plotting the training and validation accuracy**"
      ]
    },
    {
      "cell_type": "code",
      "execution_count": 34,
      "metadata": {
        "colab": {
          "base_uri": "https://localhost:8080/",
          "height": 472
        },
        "id": "zV5MwponZ_5E",
        "outputId": "5d2b795b-c3cc-4f1d-eebd-294c8bb2f3ff"
      },
      "outputs": [
        {
          "output_type": "display_data",
          "data": {
            "text/plain": [
              "<Figure size 640x480 with 1 Axes>"
            ],
            "image/png": "[encoded data removed]"
          },
          "metadata": {}
        }
      ],
      "source": [
        "plt.clf()\n",
        "acc = history.history[\"accuracy\"]\n",
        "val_acc = history.history[\"val_accuracy\"]\n",
        "plt.plot(epochs, acc, \"bo\", label=\"Training accuracy\")\n",
        "plt.plot(epochs, val_acc, \"b\", label=\"Validation accuracy\")\n",
        "plt.title(\"Training and validation accuracy\")\n",
        "plt.xlabel(\"Epochs\")\n",
        "plt.ylabel(\"Accuracy\")\n",
        "plt.legend()\n",
        "plt.show()"
      ]
    },
    {
      "cell_type": "markdown",
      "metadata": {
        "id": "U78hsAuUZ_5E"
      },
      "source": [
        "**Retraining a model from scratch**"
      ]
    },
    {
      "cell_type": "code",
      "execution_count": 35,
      "metadata": {
        "colab": {
          "base_uri": "https://localhost:8080/"
        },
        "id": "XBtA7niBZ_5E",
        "outputId": "0e111852-8800-4e21-fe53-e66877566b7a"
      },
      "outputs": [
        {
          "output_type": "stream",
          "name": "stdout",
          "text": [
            "Epoch 1/9\n",
            "18/18 [==============================] - 1s 46ms/step - loss: 2.5719 - accuracy: 0.5102\n",
            "Epoch 2/9\n",
            "18/18 [==============================] - 2s 89ms/step - loss: 1.4719 - accuracy: 0.6840\n",
            "Epoch 3/9\n",
            "18/18 [==============================] - 2s 136ms/step - loss: 1.1250 - accuracy: 0.7544\n",
            "Epoch 4/9\n",
            "18/18 [==============================] - 2s 90ms/step - loss: 0.9070 - accuracy: 0.8084\n",
            "Epoch 5/9\n",
            "18/18 [==============================] - 2s 113ms/step - loss: 0.7461 - accuracy: 0.8395\n",
            "Epoch 6/9\n",
            "18/18 [==============================] - 2s 87ms/step - loss: 0.6136 - accuracy: 0.8692\n",
            "Epoch 7/9\n",
            "18/18 [==============================] - 2s 94ms/step - loss: 0.5111 - accuracy: 0.8903\n",
            "Epoch 8/9\n",
            "18/18 [==============================] - 1s 47ms/step - loss: 0.4300 - accuracy: 0.9103\n",
            "Epoch 9/9\n",
            "18/18 [==============================] - 1s 45ms/step - loss: 0.3635 - accuracy: 0.9231\n",
            "71/71 [==============================] - 0s 4ms/step - loss: 0.9031 - accuracy: 0.7974\n"
          ]
        }
      ],
      "source": [
        "model = keras.Sequential([\n",
        "  layers.Dense(64, activation=\"relu\"),\n",
        "  layers.Dense(64, activation=\"relu\"),\n",
        "  layers.Dense(46, activation=\"softmax\")\n",
        "])\n",
        "model.compile(optimizer=\"rmsprop\",\n",
        "              loss=\"categorical_crossentropy\",\n",
        "              metrics=[\"accuracy\"])\n",
        "model.fit(x_train,\n",
        "          y_train,\n",
        "          epochs=9,\n",
        "          batch_size=512)\n",
        "results = model.evaluate(x_test, y_test)"
      ]
    },
    {
      "cell_type": "code",
      "execution_count": 36,
      "metadata": {
        "colab": {
          "base_uri": "https://localhost:8080/"
        },
        "id": "g8FYHP3mZ_5E",
        "outputId": "69b0ff21-d90a-4abf-f44e-ef1e470a679a"
      },
      "outputs": [
        {
          "output_type": "execute_result",
          "data": {
            "text/plain": [
              "[0.9031162261962891, 0.7974176406860352]"
            ]
          },
          "metadata": {},
          "execution_count": 36
        }
      ],
      "source": [
        "results"
      ]
    },
    {
      "cell_type": "code",
      "execution_count": 37,
      "metadata": {
        "colab": {
          "base_uri": "https://localhost:8080/"
        },
        "id": "tPDe4L-JZ_5F",
        "outputId": "ae3a05fe-19d0-4645-ab99-eb4c9e7ba4f9"
      },
      "outputs": [
        {
          "output_type": "execute_result",
          "data": {
            "text/plain": [
              "0.1798753339269813"
            ]
          },
          "metadata": {},
          "execution_count": 37
        }
      ],
      "source": [
        "import copy\n",
        "test_labels_copy = copy.copy(test_labels)\n",
        "np.random.shuffle(test_labels_copy)\n",
        "hits_array = np.array(test_labels) == np.array(test_labels_copy)\n",
        "hits_array.mean()"
      ]
    },
    {
      "cell_type": "markdown",
      "metadata": {
        "id": "6eGIYCziZ_5F"
      },
      "source": [
        "### Generating predictions on new data"
      ]
    },
    {
      "cell_type": "code",
      "execution_count": 38,
      "metadata": {
        "colab": {
          "base_uri": "https://localhost:8080/"
        },
        "id": "QWyEcCcBZ_5F",
        "outputId": "52f3e672-955c-4f22-e979-22c7c9f83b13"
      },
      "outputs": [
        {
          "output_type": "stream",
          "name": "stdout",
          "text": [
            "71/71 [==============================] - 0s 4ms/step\n"
          ]
        }
      ],
      "source": [
        "predictions = model.predict(x_test)"
      ]
    },
    {
      "cell_type": "code",
      "execution_count": 39,
      "metadata": {
        "colab": {
          "base_uri": "https://localhost:8080/"
        },
        "id": "9aM0RrfMZ_5F",
        "outputId": "c63ac12b-6dea-4046-e49e-018831b96388"
      },
      "outputs": [
        {
          "output_type": "execute_result",
          "data": {
            "text/plain": [
              "(46,)"
            ]
          },
          "metadata": {},
          "execution_count": 39
        }
      ],
      "source": [
        "predictions[0].shape"
      ]
    },
    {
      "cell_type": "code",
      "execution_count": 40,
      "metadata": {
        "colab": {
          "base_uri": "https://localhost:8080/"
        },
        "id": "LOoQpA3pZ_5F",
        "outputId": "a690cefa-5dfd-4a3f-b391-5252d5295cdd"
      },
      "outputs": [
        {
          "output_type": "execute_result",
          "data": {
            "text/plain": [
              "1.0000001"
            ]
          },
          "metadata": {},
          "execution_count": 40
        }
      ],
      "source": [
        "np.sum(predictions[0])"
      ]
    },
    {
      "cell_type": "code",
      "execution_count": 41,
      "metadata": {
        "colab": {
          "base_uri": "https://localhost:8080/"
        },
        "id": "3OpxeqczZ_5F",
        "outputId": "85a27ca7-5229-4894-e7a2-b3f78d636842"
      },
      "outputs": [
        {
          "output_type": "execute_result",
          "data": {
            "text/plain": [
              "3"
            ]
          },
          "metadata": {},
          "execution_count": 41
        }
      ],
      "source": [
        "np.argmax(predictions[0])"
      ]
    },
    {
      "cell_type": "markdown",
      "metadata": {
        "id": "1zTwmLVBZ_5F"
      },
      "source": [
        "### A different way to handle the labels and the loss"
      ]
    },
    {
      "cell_type": "code",
      "execution_count": 42,
      "metadata": {
        "id": "RcO36CXfZ_5F"
      },
      "outputs": [],
      "source": [
        "y_train = np.array(train_labels)\n",
        "y_test = np.array(test_labels)"
      ]
    },
    {
      "cell_type": "code",
      "source": [
        "y_train"
      ],
      "metadata": {
        "colab": {
          "base_uri": "https://localhost:8080/"
        },
        "id": "31QcPo7frhW1",
        "outputId": "f02003e1-a58d-41fc-eafe-d417d763559d"
      },
      "execution_count": 43,
      "outputs": [
        {
          "output_type": "execute_result",
          "data": {
            "text/plain": [
              "array([ 3,  4,  3, ..., 25,  3, 25])"
            ]
          },
          "metadata": {},
          "execution_count": 43
        }
      ]
    },
    {
      "cell_type": "code",
      "execution_count": 44,
      "metadata": {
        "id": "lCPGKkkWZ_5G"
      },
      "outputs": [],
      "source": [
        "model.compile(optimizer=\"rmsprop\",\n",
        "              loss=\"sparse_categorical_crossentropy\",\n",
        "              metrics=[\"accuracy\"])"
      ]
    },
    {
      "cell_type": "markdown",
      "metadata": {
        "id": "KJsiCAyuZ_5G"
      },
      "source": [
        "### The importance of having sufficiently large intermediate layers"
      ]
    },
    {
      "cell_type": "markdown",
      "metadata": {
        "id": "oysesjCMZ_5G"
      },
      "source": [
        "**A model with an information bottleneck**"
      ]
    },
    {
      "cell_type": "code",
      "execution_count": 45,
      "metadata": {
        "colab": {
          "base_uri": "https://localhost:8080/"
        },
        "id": "YaqglxGTZ_5G",
        "outputId": "19f155b4-b0d1-472a-eee0-154926e302e0"
      },
      "outputs": [
        {
          "output_type": "stream",
          "name": "stdout",
          "text": [
            "Epoch 1/20\n",
            "63/63 [==============================] - 3s 28ms/step - loss: 2.7089 - accuracy: 0.4183 - val_loss: 1.9929 - val_accuracy: 0.5740\n",
            "Epoch 2/20\n",
            "63/63 [==============================] - 1s 18ms/step - loss: 1.7324 - accuracy: 0.6125 - val_loss: 1.6045 - val_accuracy: 0.6280\n",
            "Epoch 3/20\n",
            "63/63 [==============================] - 1s 18ms/step - loss: 1.4091 - accuracy: 0.6616 - val_loss: 1.4290 - val_accuracy: 0.6550\n",
            "Epoch 4/20\n",
            "63/63 [==============================] - 1s 18ms/step - loss: 1.2011 - accuracy: 0.7105 - val_loss: 1.3393 - val_accuracy: 0.6860\n",
            "Epoch 5/20\n",
            "63/63 [==============================] - 1s 17ms/step - loss: 1.0581 - accuracy: 0.7439 - val_loss: 1.2788 - val_accuracy: 0.6970\n",
            "Epoch 6/20\n",
            "63/63 [==============================] - 1s 22ms/step - loss: 0.9646 - accuracy: 0.7547 - val_loss: 1.2911 - val_accuracy: 0.6990\n",
            "Epoch 7/20\n",
            "63/63 [==============================] - 1s 18ms/step - loss: 0.8949 - accuracy: 0.7630 - val_loss: 1.2604 - val_accuracy: 0.6990\n",
            "Epoch 8/20\n",
            "63/63 [==============================] - 1s 19ms/step - loss: 0.8346 - accuracy: 0.7720 - val_loss: 1.2651 - val_accuracy: 0.6970\n",
            "Epoch 9/20\n",
            "63/63 [==============================] - 1s 23ms/step - loss: 0.7838 - accuracy: 0.7819 - val_loss: 1.2726 - val_accuracy: 0.7030\n",
            "Epoch 10/20\n",
            "63/63 [==============================] - 2s 30ms/step - loss: 0.7332 - accuracy: 0.7975 - val_loss: 1.2926 - val_accuracy: 0.7040\n",
            "Epoch 11/20\n",
            "63/63 [==============================] - 1s 20ms/step - loss: 0.6904 - accuracy: 0.8122 - val_loss: 1.3134 - val_accuracy: 0.7060\n",
            "Epoch 12/20\n",
            "63/63 [==============================] - 1s 20ms/step - loss: 0.6515 - accuracy: 0.8260 - val_loss: 1.3179 - val_accuracy: 0.7240\n",
            "Epoch 13/20\n",
            "63/63 [==============================] - 1s 18ms/step - loss: 0.6163 - accuracy: 0.8341 - val_loss: 1.3555 - val_accuracy: 0.7110\n",
            "Epoch 14/20\n",
            "63/63 [==============================] - 1s 18ms/step - loss: 0.5886 - accuracy: 0.8428 - val_loss: 1.3858 - val_accuracy: 0.7190\n",
            "Epoch 15/20\n",
            "63/63 [==============================] - 1s 18ms/step - loss: 0.5620 - accuracy: 0.8502 - val_loss: 1.4117 - val_accuracy: 0.7150\n",
            "Epoch 16/20\n",
            "63/63 [==============================] - 1s 18ms/step - loss: 0.5378 - accuracy: 0.8522 - val_loss: 1.4460 - val_accuracy: 0.7140\n",
            "Epoch 17/20\n",
            "63/63 [==============================] - 1s 17ms/step - loss: 0.5182 - accuracy: 0.8574 - val_loss: 1.4445 - val_accuracy: 0.7220\n",
            "Epoch 18/20\n",
            "63/63 [==============================] - 1s 18ms/step - loss: 0.4994 - accuracy: 0.8614 - val_loss: 1.4804 - val_accuracy: 0.7220\n",
            "Epoch 19/20\n",
            "63/63 [==============================] - 1s 20ms/step - loss: 0.4802 - accuracy: 0.8631 - val_loss: 1.5289 - val_accuracy: 0.7190\n",
            "Epoch 20/20\n",
            "63/63 [==============================] - 2s 29ms/step - loss: 0.4674 - accuracy: 0.8683 - val_loss: 1.5846 - val_accuracy: 0.7160\n"
          ]
        },
        {
          "output_type": "execute_result",
          "data": {
            "text/plain": [
              "<keras.callbacks.History at 0x7a407c06c7f0>"
            ]
          },
          "metadata": {},
          "execution_count": 45
        }
      ],
      "source": [
        "model = keras.Sequential([\n",
        "    layers.Dense(64, activation=\"relu\"),\n",
        "    layers.Dense(4, activation=\"relu\"),\n",
        "    layers.Dense(46, activation=\"softmax\")\n",
        "])\n",
        "model.compile(optimizer=\"rmsprop\",\n",
        "              loss=\"categorical_crossentropy\",\n",
        "              metrics=[\"accuracy\"])\n",
        "model.fit(partial_x_train,\n",
        "          partial_y_train,\n",
        "          epochs=20,\n",
        "          batch_size=128,\n",
        "          validation_data=(x_val, y_val))"
      ]
    },
    {
      "cell_type": "markdown",
      "metadata": {
        "id": "PpZvpamgZ_5G"
      },
      "source": [
        "### Further experiments"
      ]
    },
    {
      "cell_type": "markdown",
      "metadata": {
        "id": "5t_2OL5EZ_5G"
      },
      "source": [
        "### Wrapping up"
      ]
    }
  ],
  "metadata": {
    "colab": {
      "provenance": [],
      "toc_visible": true,
      "include_colab_link": true
    },
    "kernelspec": {
      "display_name": "Python 3",
      "language": "python",
      "name": "python3"
    },
    "language_info": {
      "codemirror_mode": {
        "name": "ipython",
        "version": 3
      },
      "file_extension": ".py",
      "mimetype": "text/x-python",
      "name": "python",
      "nbconvert_exporter": "python",
      "pygments_lexer": "ipython3",
      "version": "3.7.0"
    }
  },
  "nbformat": 4,
  "nbformat_minor": 0
}