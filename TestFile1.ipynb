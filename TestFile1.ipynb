{
  "nbformat": 4,
  "nbformat_minor": 0,
  "metadata": {
    "colab": {
      "provenance": [],
      "mount_file_id": "1hIL9aU25b1HFn5yaVvXIWbmc622UoGam",
      "authorship_tag": "ABX9TyP6XB23xmkcoHxsinqsDt8i",
      "include_colab_link": true
    },
    "kernelspec": {
      "name": "python3",
      "display_name": "Python 3"
    },
    "language_info": {
      "name": "python"
    }
  },
  "cells": [
    {
      "cell_type": "markdown",
      "metadata": {
        "id": "view-in-github",
        "colab_type": "text"
      },
      "source": [
        "<a href=\"https://colab.research.google.com/github/FredLongo/Deep_Learning_Book_exercises/blob/main/TestFile1.ipynb\" target=\"_parent\"><img src=\"https://colab.research.google.com/assets/colab-badge.svg\" alt=\"Open In Colab\"/></a>"
      ]
    },
    {
      "cell_type": "code",
      "execution_count": 2,
      "metadata": {
        "colab": {
          "base_uri": "https://localhost:8080/"
        },
        "id": "ZxAo_Zxlgn5C",
        "outputId": "ea02c6fa-4580-4809-c7f7-881d1177e521"
      },
      "outputs": [
        {
          "output_type": "stream",
          "name": "stdout",
          "text": [
            "TestFile1\n"
          ]
        }
      ],
      "source": [
        "print(\"TestFile1\")"
      ]
    }
  ]
}