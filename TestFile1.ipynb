{
  "nbformat": 4,
  "nbformat_minor": 0,
  "metadata": {
    "colab": {
      "provenance": [],
      "mount_file_id": "1hIL9aU25b1HFn5yaVvXIWbmc622UoGam",
      "authorship_tag": "ABX9TyONMJ0yyjZrboCnFxNlufGT",
      "include_colab_link": true
    },
    "kernelspec": {
      "name": "python3",
      "display_name": "Python 3"
    },
    "language_info": {
      "name": "python"
    }
  },
  "cells": [
    {
      "cell_type": "markdown",
      "metadata": {
        "id": "view-in-github",
        "colab_type": "text"
      },
      "source": [
        "<a href=\"https://colab.research.google.com/github/FredLongo/Deep_Learning_Book_exercises/blob/main/TestFile1.ipynb\" target=\"_parent\"><img src=\"https://colab.research.google.com/assets/colab-badge.svg\" alt=\"Open In Colab\"/></a>"
      ]
    },
    {
      "cell_type": "code",
      "execution_count": 1,
      "metadata": {
        "colab": {
          "base_uri": "https://localhost:8080/"
        },
        "id": "ZxAo_Zxlgn5C",
        "outputId": "ccaf6ab5-b324-4119-92c0-97e11e98d41f"
      },
      "outputs": [
        {
          "output_type": "stream",
          "name": "stdout",
          "text": [
            "TestFile1\n"
          ]
        }
      ],
      "source": [
        "print(\"TestFile1\")"
      ]
    },
    {
      "cell_type": "code",
      "source": [
        "print(\"with Modifications\")"
      ],
      "metadata": {
        "id": "L6RibMYqlZdq",
        "outputId": "45671ee5-a27c-404c-b02d-aa11d07f2e65",
        "colab": {
          "base_uri": "https://localhost:8080/"
        }
      },
      "execution_count": 3,
      "outputs": [
        {
          "output_type": "stream",
          "name": "stdout",
          "text": [
            "with Modifications\n"
          ]
        }
      ]
    }
  ]
}